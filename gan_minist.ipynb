{
 "cells": [
  {
   "cell_type": "code",
   "execution_count": 1,
   "metadata": {},
   "outputs": [],
   "source": [
    "import torch\n",
    "import torch.nn as nn\n",
    "import matplotlib as plt\n",
    "import torchvision\n",
    "from torchvision import transforms\n",
    "import numpy as np "
   ]
  },
  {
   "cell_type": "code",
   "execution_count": 2,
   "metadata": {},
   "outputs": [],
   "source": [
    "transform = transforms.Compose([transforms.ToTensor(),transforms.Normalize(0.5,0.5)])\n",
    "train_ds = torchvision.datasets.MNIST('data',train=True,transform=transform,download=True)\n",
    "dataloader = torch.utils.data.DataLoader(train_ds,batch_size = 128,shuffle = True)"
   ]
  },
  {
   "cell_type": "code",
   "execution_count": 3,
   "metadata": {},
   "outputs": [],
   "source": [
    "class Generator(nn.Module):\n",
    "    def __init__(self):\n",
    "        super(Generator,self).__init__()\n",
    "        self.main = nn.Sequential(\n",
    "            nn.Linear(100,256),\n",
    "            nn.ReLU(),\n",
    "            nn.Linear(256,512),\n",
    "            nn.ReLU(),\n",
    "            nn.Linear(512,28*28),\n",
    "            nn.Tanh()\n",
    "        )\n",
    "    def forward(self,x):\n",
    "        img = self.main(x)\n",
    "        return img.view(-1,28,28)\n",
    "    \n",
    "class Discrimeinator(nn.Module):\n",
    "    def __init__(self):\n",
    "        super(Discrimeinator,self).__init__()\n",
    "        self.main = nn.Sequential(\n",
    "            nn.Linear(28*28,512),\n",
    "            nn.LeakyReLU(),\n",
    "            nn.Linear(512,256),\n",
    "            nn.LeakyReLU(),\n",
    "            nn.Linear(256,1),\n",
    "            nn.Sigmoid()\n",
    "        )\n",
    "    def forward(self,x):\n",
    "        x = x.view(-1,28*28)\n",
    "        x = self.main(x)\n",
    "        return x"
   ]
  },
  {
   "cell_type": "code",
   "execution_count": 4,
   "metadata": {},
   "outputs": [
    {
     "name": "stdout",
     "output_type": "stream",
     "text": [
      "cuda\n"
     ]
    }
   ],
   "source": [
    "device = 'cuda' if torch.cuda.is_available else 'cpu'\n",
    "print(device)\n",
    "\n",
    "gen = Generator().to(device=device)\n",
    "dis = Discrimeinator().to(device=device)\n",
    "\n",
    "g_optim = torch.optim.Adam(gen.parameters(),lr=0.00005)\n",
    "d_optim = torch.optim.Adam(dis.parameters(),lr=0.00005)\n",
    "\n",
    "loss_fn = nn.BCELoss()"
   ]
  },
  {
   "cell_type": "code",
   "execution_count": 5,
   "metadata": {},
   "outputs": [],
   "source": [
    "def gen_img_plot(model,test_input):\n",
    "    pred = np.squeeze(model(test_input).detach().cpu().numpy())\n",
    "    \n",
    "    fig = plt.figure(figsize = (4,4))\n",
    "    for i in range(16):\n",
    "        plt.subplot(4,4,i+1)\n",
    "        plt.show((pred[i]+1)/2)\n",
    "        plt.axis('off')\n",
    "    plt.show()"
   ]
  },
  {
   "cell_type": "code",
   "execution_count": 6,
   "metadata": {},
   "outputs": [],
   "source": [
    "test_input = torch.randn(16,100,device = device)"
   ]
  },
  {
   "cell_type": "code",
   "execution_count": 7,
   "metadata": {},
   "outputs": [
    {
     "name": "stdout",
     "output_type": "stream",
     "text": [
      "epoch: 0\n",
      "epoch: 1\n",
      "epoch: 2\n",
      "epoch: 3\n",
      "epoch: 4\n",
      "epoch: 5\n",
      "epoch: 6\n",
      "epoch: 7\n",
      "epoch: 8\n",
      "epoch: 9\n",
      "epoch: 10\n",
      "epoch: 11\n",
      "epoch: 12\n",
      "epoch: 13\n",
      "epoch: 14\n",
      "epoch: 15\n",
      "epoch: 16\n",
      "epoch: 17\n",
      "epoch: 18\n",
      "epoch: 19\n"
     ]
    }
   ],
   "source": [
    "D_loss = []\n",
    "G_loss = []\n",
    "epoch = 1\n",
    "epochs = 20\n",
    "\n",
    "for epoch in range(epochs):\n",
    "    d_epoch_loss = 0\n",
    "    g_epoch_loss = 0\n",
    "    count = len(dataloader)\n",
    "    print('epoch:',epoch)\n",
    "    for step ,(img,_) in enumerate(dataloader):\n",
    "        img = img.to(device)\n",
    "        size = img.size(0)\n",
    "        random_noise = torch.randn(size,100).to(device=device)\n",
    "\n",
    "        d_optim.zero_grad()\n",
    "        real_output = dis(img)\n",
    "\n",
    "        d_real_loss = loss_fn(real_output,torch.ones_like(real_output))\n",
    "        d_real_loss.backward()\n",
    "\n",
    "        gen_img = gen(random_noise)\n",
    "        fake_output = dis(gen_img.detach())\n",
    "\n",
    "        d_fake_loss = loss_fn(fake_output,torch.zeros_like(fake_output))\n",
    "        d_fake_loss.backward()\n",
    "\n",
    "        d_loss = d_real_loss + d_fake_loss\n",
    "        d_optim.step()\n",
    "\n",
    "        g_optim.zero_grad()\n",
    "        fake_output = dis(gen_img)\n",
    "        g_loss = loss_fn(fake_output,torch.ones_like(fake_output))\n",
    "        g_loss.backward()\n",
    "        g_optim.step()\n",
    "\n",
    "        with torch.no_grad():\n",
    "            d_epoch_loss += d_loss\n",
    "            g_epoch_loss += g_loss\n",
    "\n",
    "    with torch.no_grad():\n",
    "        d_epoch_loss /=count\n",
    "        g_epoch_loss /=count\n",
    "\n",
    "D_loss.append(d_epoch_loss)\n",
    "G_loss.append(g_epoch_loss)\n",
    "\n",
    "\n"
   ]
  },
  {
   "cell_type": "code",
   "execution_count": 9,
   "metadata": {},
   "outputs": [],
   "source": [
    "if epoch == epochs:\n",
    "    gen_img_plot(gen,test_input)\n",
    "    print('test_input.size():',test_input.size())\n",
    "    G_loss_cpu = [tensor.cpu().numpy for tensor in G_loss]\n",
    "    D_loss_cpu = [tensor.cpu().numpy for tensor in D_loss]\n",
    "    plt.plot(range(len(G_loss_cpu)),G_loss_cpu,cplor = 'blue',label='G_loss')\n",
    "    plt.plot(range(len(D_loss_cpu)),D_loss_cpu,cplor = 'orange',label='D_loss')\n",
    "    plt.show()"
   ]
  },
  {
   "cell_type": "code",
   "execution_count": null,
   "metadata": {},
   "outputs": [],
   "source": []
  }
 ],
 "metadata": {
  "kernelspec": {
   "display_name": "Python 3",
   "language": "python",
   "name": "python3"
  },
  "language_info": {
   "codemirror_mode": {
    "name": "ipython",
    "version": 3
   },
   "file_extension": ".py",
   "mimetype": "text/x-python",
   "name": "python",
   "nbconvert_exporter": "python",
   "pygments_lexer": "ipython3",
   "version": "3.8.16"
  }
 },
 "nbformat": 4,
 "nbformat_minor": 2
}
